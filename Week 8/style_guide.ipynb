{
 "cells": [
  {
   "cell_type": "code",
   "execution_count": null,
   "metadata": {},
   "outputs": [],
   "source": [
    "# This file contains the coding style guidelines for the group code\n",
    "# Any code being submitted for review should conform to the style guide outlined in this document\n",
    "\n",
    "# however, there are some decisions your group needs to make first...\n",
    "# delet the choice options which your group will not be using"
   ]
  },
  {
   "cell_type": "code",
   "execution_count": null,
   "metadata": {},
   "outputs": [],
   "source": [
    "# --------------------------------------------------------\n",
    "# variable names... \n",
    "# --------------------------------------------------------\n",
    "# Select one from below or add your own. \n",
    "# Delete the other options once decided.\n",
    "\n",
    "#choice 2: CapitalisedCaseVariableNames\n",
    "#We chose this as we use this style more often in processing.\n",
    "print(\"Hi.\")"
   ]
  },
  {
   "cell_type": "code",
   "execution_count": null,
   "metadata": {},
   "outputs": [],
   "source": [
    "# --------------------------------------------------------\n",
    "# function names... \n",
    "# --------------------------------------------------------\n",
    "# Select one from below or add your own. \n",
    "# Delete the other options once decided.\n",
    "\n",
    "\n",
    "#choice 2: CapitalisedCaseVariableNames()\n",
    "\n",
    "#We chose this as we use this style more often in processing."
   ]
  },
  {
   "cell_type": "code",
   "execution_count": null,
   "metadata": {},
   "outputs": [],
   "source": [
    "# --------------------------------------------------------\n",
    "# long function parameter indents... \n",
    "# --------------------------------------------------------\n",
    "# select one from below or add your own. \n",
    "# Delete the other options once decided.\n",
    "\n",
    "#choice 1: aligned with opening delimeter\n",
    "def a_function_name(variable1, variable2, \n",
    "                    variable3, variable4, \n",
    "                    variable5)\n",
    "    value = ( variable1 + variable2 ) * variable3 \n",
    "    if(variable4 > 5):\n",
    "        return value * variable5\n",
    "    else:\n",
    "        return value * variable4\n",
    "#reason: Easier readability "
   ]
  },
  {
   "cell_type": "code",
   "execution_count": null,
   "metadata": {},
   "outputs": [],
   "source": [
    "# --------------------------------------------------------\n",
    "# maximum line length... \n",
    "# --------------------------------------------------------\n",
    "# select one from below or add your own. \n",
    "# Delete the other options once decided.\n",
    "\n",
    "#choice 1: 60 characters long\n",
    "#reason: Easier readability \n"
   ]
  },
  {
   "cell_type": "code",
   "execution_count": null,
   "metadata": {},
   "outputs": [],
   "source": [
    "# --------------------------------------------------------\n",
    "# line breaks before or after operators... \n",
    "# --------------------------------------------------------\n",
    "# Select one from below or add your own. \n",
    "# Delete the other options once decided.\n",
    "# also, be sure to make this conform to the \n",
    "#   long parameter indents from the decision made before.\n",
    "#choice 2: after operator\n",
    "complex_equation = ((some_value +\n",
    "                    another_value *\n",
    "                    (this_thing + that_thing)) /\n",
    "                    some_denominator\n",
    "#reason: Easier readability                  "
   ]
  },
  {
   "cell_type": "code",
   "execution_count": null,
   "metadata": {},
   "outputs": [],
   "source": [
    "# --------------------------------------------------------\n",
    "# indenting... \n",
    "# --------------------------------------------------------\n",
    "# Select one from below or add your own. \n",
    "# Delete the other options once decided.\n",
    "\n",
    "# use tabs\n",
    "#reason: efficiency\n"
   ]
  },
  {
   "cell_type": "code",
   "execution_count": null,
   "metadata": {},
   "outputs": [],
   "source": [
    "# --------------------------------------------------------\n",
    "# whitespace around = operators... \n",
    "# --------------------------------------------------------\n",
    "# Select one from below or add your own. \n",
    "# Delete the other options once decided.\n",
    "\n",
    "#choice 2: spacing\n",
    "a = b\n",
    "#reason: Easier readability "
   ]
  },
  {
   "cell_type": "code",
   "execution_count": null,
   "metadata": {},
   "outputs": [],
   "source": [
    "# --------------------------------------------------------\n",
    "# whitespace around other operators and brackets... \n",
    "# --------------------------------------------------------\n",
    "# Select one from below or add your own. \n",
    "# Delete the other options once decided.\n",
    "# also, be sure to make this conform to the \n",
    "#   whitespace around = operators from the decision made above.\n",
    "\n",
    "#choice 3: semi spacing\n",
    "limit = (something + another * (5 + something))\n",
    "#reason: Easier readability \n"
   ]
  },
  {
   "cell_type": "code",
   "execution_count": null,
   "metadata": {},
   "outputs": [],
   "source": [
    "# --------------------------------------------------------\n",
    "# short code comments... \n",
    "# --------------------------------------------------------\n",
    "# select one from below or add your own. \n",
    "# Delete the other options once decided.\n",
    "\n",
    "#choice 1: inline\n",
    "\n",
    "limit = limit * magnitude            #adapt to the zoom level\n",
    "\n",
    "#reason: Easier to understand what the comment is referring to"
   ]
  },
  {
   "cell_type": "code",
   "execution_count": null,
   "metadata": {},
   "outputs": [],
   "source": [
    "# --------------------------------------------------------\n",
    "# Function description comments... \n",
    "# --------------------------------------------------------\n",
    "# select one from below or add your own. \n",
    "# Delete the other options once decided.\n",
    "\n",
    "#choice 1: use a docstring the line after the function definition starts\n",
    "\n",
    "#choice 2: use code blocks before funtion defintion\n",
    "\n",
    "\n",
    "#example of choice 1:\n",
    "\n",
    "def process_my_data(ndarray_values):\n",
    "    \"\"\" takes a numpy 2darray and runs a smoothing function over the data.\n",
    "    \n",
    "    Details: this function uses a low pass butterworth filter over a collection\n",
    "    of data passed in to the function. The function does not modify the input data.\n",
    "    \"\"\"\n",
    "    \n",
    "    # We have some pre-defined \"smoothing\" being used here\n",
    "    b, a = signal.butter(4, 0.04, 'low', analog=False)\n",
    "\n",
    "    # give me an area to store the updated values... same size as ndarray_values\n",
    "    processed_array = np.zeros_like( ndarray_values )\n",
    "\n",
    "    number_of_columns = np.size(ndarray_values,1) #how many columns?\n",
    "\n",
    "    # do something to each column of data\n",
    "    # don't worry about what it is doing to the data, just know that it is \n",
    "    # ... doing it one column at a time.\n",
    "    for i in range( number_of_columns ): # equivalent to -> for i = 0; i < number_of_columns; i++\n",
    "        processed_array[:,i] = signal.lfilter(b, a, ndarray_values[:, i])\n",
    "\n",
    "    #return the processed_array so it can be used elsewhere\n",
    "    return processed_array\n",
    "#reason: Easier readability "
   ]
  },
  {
   "cell_type": "code",
   "execution_count": null,
   "metadata": {},
   "outputs": [],
   "source": [
    "\n",
    "# Are there any others that you group would like to add?\n"
   ]
  }
 ],
 "metadata": {
  "kernelspec": {
   "display_name": "Python 3",
   "language": "python",
   "name": "python3"
  },
  "language_info": {
   "codemirror_mode": {
    "name": "ipython",
    "version": 3
   },
   "file_extension": ".py",
   "mimetype": "text/x-python",
   "name": "python",
   "nbconvert_exporter": "python",
   "pygments_lexer": "ipython3",
   "version": "3.7.6"
  }
 },
 "nbformat": 4,
 "nbformat_minor": 2
}
