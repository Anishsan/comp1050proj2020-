{
 "cells": [
  {
   "cell_type": "code",
   "execution_count": 2,
   "metadata": {},
   "outputs": [],
   "source": [
    "#################################################\n",
    "#Prac 05 file 2 - COMP1050\n",
    "#################################################\n",
    "\n",
    "# Importing libraries\n",
    "# Using Numpy\n",
    "# Using Pandas\n",
    "# Using MatPlotLib\n",
    "\n",
    "\n",
    "# There are some samples below. If you want to skip to the 3 challenges, they are at the bottom...\n",
    "\n"
   ]
  },
  {
   "cell_type": "code",
   "execution_count": 3,
   "metadata": {},
   "outputs": [
    {
     "name": "stdout",
     "output_type": "stream",
     "text": [
      "[0. 0. 0. 0. 0. 0. 0. 0. 0. 0. 0. 0. 0. 0. 0. 0. 0. 0. 0. 0.]\n",
      "[0 0 0 0 0 0 0 0 0 0 0 0 0 0 0 0 0 0 0 0]\n"
     ]
    }
   ],
   "source": [
    "#Some Sample Numpy Functions\n",
    "\n",
    "import numpy as np \n",
    "x = np.zeros(20)\n",
    "print(x)\n",
    "\n",
    "x = np.zeros(20, dtype=int)\n",
    "print(x)\n"
   ]
  },
  {
   "cell_type": "code",
   "execution_count": 4,
   "metadata": {},
   "outputs": [
    {
     "name": "stdout",
     "output_type": "stream",
     "text": [
      "[1. 1. 1. 1. 1. 1. 1. 1. 1. 1. 1. 1. 1. 1. 1. 1. 1. 1. 1. 1.]\n",
      "[1 1 1 1 1 1 1 1 1 1 1 1 1 1 1 1 1 1 1 1]\n"
     ]
    }
   ],
   "source": [
    "#Some More Sample Numpy Functions\n",
    "x = np.ones(20)\n",
    "print(x)\n",
    "\n",
    "x = np.ones(20, dtype=int)\n",
    "print(x)\n"
   ]
  },
  {
   "cell_type": "code",
   "execution_count": 5,
   "metadata": {},
   "outputs": [
    {
     "name": "stdout",
     "output_type": "stream",
     "text": [
      "[ 0  1  2  3  4  5  6  7  8  9 10 11 12 13 14 15 16 17 18 19]\n",
      "[19 18 17 16 15 14 13 12 11 10  9  8  7  6  5  4  3  2  1  0]\n"
     ]
    }
   ],
   "source": [
    "#Some More Sample Numpy Functions\n",
    "x = np.arange(20)\n",
    "print(x)\n",
    "\n",
    "y = np.flip(x,0)\n",
    "print(y)\n"
   ]
  },
  {
   "cell_type": "code",
   "execution_count": 6,
   "metadata": {},
   "outputs": [
    {
     "name": "stdout",
     "output_type": "stream",
     "text": [
      "[ 0  1  2  3  4  5  6  7  8  9 10 11 12 13 14 15 16 17 18 19]\n",
      "and now to split this array up...\n",
      "[[ 0  1  2  3  4]\n",
      " [ 5  6  7  8  9]\n",
      " [10 11 12 13 14]\n",
      " [15 16 17 18 19]]\n"
     ]
    }
   ],
   "source": [
    "#Some More Sample Numpy Functions\n",
    "x = np.arange(20)\n",
    "print(x)\n",
    "\n",
    "print(\"and now to split this array up...\")\n",
    "\n",
    "x.shape = (4,5) #rearrange into 4 arrays of 5 items\n",
    "print(x)\n"
   ]
  },
  {
   "cell_type": "code",
   "execution_count": 7,
   "metadata": {},
   "outputs": [
    {
     "name": "stdout",
     "output_type": "stream",
     "text": [
      "[[ 4  3  2  1  0]\n",
      " [ 9  8  7  6  5]\n",
      " [14 13 12 11 10]\n",
      " [19 18 17 16 15]]\n"
     ]
    }
   ],
   "source": [
    "#Some More Sample Numpy Functions\n",
    "x = np.arange(20)\n",
    "x.shape = (4,5) #rearrange into 4 arrays of 5 items\n",
    "# now reverse the sublists\n",
    "y = np.flip(x,1) # the 1 here means to flip the subllists rather than the lists\n",
    "print(y)"
   ]
  },
  {
   "cell_type": "code",
   "execution_count": 8,
   "metadata": {},
   "outputs": [
    {
     "name": "stdout",
     "output_type": "stream",
     "text": [
      "[[ 0  1]\n",
      " [ 2  3]\n",
      " [ 4  5]\n",
      " [ 6  7]\n",
      " [ 8  9]\n",
      " [10 11]\n",
      " [12 13]\n",
      " [14 15]\n",
      " [16 17]\n",
      " [18 19]\n",
      " [20 21]\n",
      " [22 23]\n",
      " [24 25]\n",
      " [26 27]\n",
      " [28 29]\n",
      " [30 31]\n",
      " [32 33]\n",
      " [34 35]\n",
      " [36 37]\n",
      " [38 39]\n",
      " [40 41]\n",
      " [42 43]\n",
      " [44 45]\n",
      " [46 47]\n",
      " [48 49]]\n"
     ]
    }
   ],
   "source": [
    "# Some More Sample Numpy Functions\n",
    "data = np.arange(50)\n",
    "data.shape = (25,2)\n",
    "print(data)"
   ]
  },
  {
   "cell_type": "code",
   "execution_count": 9,
   "metadata": {},
   "outputs": [
    {
     "name": "stdout",
     "output_type": "stream",
     "text": [
      "[ 1  3  5  7  9 11 13 15 17 19]\n"
     ]
    }
   ],
   "source": [
    "# Now for something tricky\n",
    "data = np.arange(1, 20, 2) #remember: (start, stop, step)\n",
    "print(data)"
   ]
  },
  {
   "cell_type": "code",
   "execution_count": 10,
   "metadata": {},
   "outputs": [
    {
     "name": "stdout",
     "output_type": "stream",
     "text": [
      "[20 18 16 14 12 10  8  6  4  2]\n"
     ]
    }
   ],
   "source": [
    "# Now for something else that is tricky\n",
    "data = np.arange(20, 1, -2) #remember: (start, stop, step)\n",
    "print(data)"
   ]
  },
  {
   "cell_type": "code",
   "execution_count": 12,
   "metadata": {},
   "outputs": [
    {
     "name": "stdout",
     "output_type": "stream",
     "text": [
      "[0.  0.1 0.2 0.3 0.4 0.5 0.6 0.7 0.8 0.9 1.  1.1 1.2 1.3 1.4 1.5 1.6 1.7\n",
      " 1.8 1.9 2.  2.1 2.2 2.3 2.4 2.5 2.6 2.7 2.8 2.9]\n",
      "[0.   0.01 0.04 0.09 0.16 0.25 0.36 0.49 0.64 0.81 1.   1.21 1.44 1.69\n",
      " 1.96 2.25 2.56 2.89 3.24 3.61 4.   4.41 4.84 5.29 5.76 6.25 6.76 7.29\n",
      " 7.84 8.41]\n",
      "[[0.   0.  ]\n",
      " [0.1  0.01]\n",
      " [0.2  0.04]\n",
      " [0.3  0.09]\n",
      " [0.4  0.16]\n",
      " [0.5  0.25]\n",
      " [0.6  0.36]\n",
      " [0.7  0.49]\n",
      " [0.8  0.64]\n",
      " [0.9  0.81]\n",
      " [1.   1.  ]\n",
      " [1.1  1.21]\n",
      " [1.2  1.44]\n",
      " [1.3  1.69]\n",
      " [1.4  1.96]\n",
      " [1.5  2.25]\n",
      " [1.6  2.56]\n",
      " [1.7  2.89]\n",
      " [1.8  3.24]\n",
      " [1.9  3.61]\n",
      " [2.   4.  ]\n",
      " [2.1  4.41]\n",
      " [2.2  4.84]\n",
      " [2.3  5.29]\n",
      " [2.4  5.76]\n",
      " [2.5  6.25]\n",
      " [2.6  6.76]\n",
      " [2.7  7.29]\n",
      " [2.8  7.84]\n",
      " [2.9  8.41]]\n"
     ]
    }
   ],
   "source": [
    "# Not just with integers...\n",
    "# Now for something tricky\n",
    "data = np.arange(0, 3, 0.1)         #give me an array with numbers from 0 up to 3... go up by 0.1 at a time\n",
    "squared_data = np.zeros(data.size)  #give me another arry of the same size, but with all zeros for now\n",
    "import math\n",
    "#there are othewr ways to do this in Python\n",
    "for index in range(data.size): #go through the data array, square the numebr and save the result in the same spon in squared_data\n",
    "    squared_data[index] = math.pow(data[index],2) \n",
    "\n",
    "print(data)\n",
    "print(squared_data)\n",
    "\n",
    "combined_data = np.column_stack((data, squared_data))\n",
    "\n",
    "print(combined_data)\n",
    "\n"
   ]
  },
  {
   "cell_type": "code",
   "execution_count": null,
   "metadata": {},
   "outputs": [],
   "source": [
    "plt.plot(combined_data)\n",
    "plt.show()"
   ]
  },
  {
   "cell_type": "code",
   "execution_count": null,
   "metadata": {},
   "outputs": [],
   "source": [
    "# Let's plot some data points now...\n",
    "import numpy as np \n",
    "import matplotlib.pyplot as plt \n",
    "import math\n",
    "\n",
    "data = np.arange(50)\n",
    "plt.plot(data) #take the data in the list and plot it on a line\n",
    "plt.show()"
   ]
  },
  {
   "cell_type": "code",
   "execution_count": null,
   "metadata": {},
   "outputs": [],
   "source": [
    "# Let's plot some data points now...\n",
    "import numpy as np \n",
    "import matplotlib.pyplot as plt \n",
    "import math\n",
    "\n",
    "#What lines are actually being created from the data? Is it the rows or the columns?\n",
    "\n",
    "data = np.arange(50)\n",
    "print(data)\n",
    "\n",
    "data.shape = (10,5)\n",
    "print(data)\n",
    "\n",
    "plt.plot(data)\n",
    "plt.show()"
   ]
  },
  {
   "cell_type": "code",
   "execution_count": null,
   "metadata": {},
   "outputs": [],
   "source": [
    "# What is happening here with the line?\n",
    "plt.plot( [0,0,1,1,1,0,1,0,1,1,1,2,2,1,1] )\n",
    "plt.show()\n"
   ]
  },
  {
   "cell_type": "code",
   "execution_count": 13,
   "metadata": {},
   "outputs": [
    {
     "data": {
      "image/png": "[encoded data removed]",
      "text/plain": [
       "<Figure size 432x288 with 1 Axes>"
      ]
     },
     "metadata": {
      "needs_background": "light"
     },
     "output_type": "display_data"
    }
   ],
   "source": [
    "#################################################\n",
    "#Challenge 1\n",
    "#################################################\n",
    "import numpy as np \n",
    "import matplotlib.pyplot as plt \n",
    "import math\n",
    "x= [100, 99, 97, 94, 89, 83, 76, 68, 59, 49]\n",
    "plt.plot(x)\n",
    "plt.show()\n",
    "\n",
    "# TODO: Create a plot line for the values [100, 99, 97, 94, 89, 83, 76, 68, 59, 49]\n"
   ]
  },
  {
   "cell_type": "code",
   "execution_count": 16,
   "metadata": {},
   "outputs": [
    {
     "data": {
      "image/png": "[encoded data removed]",
      "text/plain": [
       "<Figure size 432x288 with 1 Axes>"
      ]
     },
     "metadata": {
      "needs_background": "light"
     },
     "output_type": "display_data"
    }
   ],
   "source": [
    "#################################################\n",
    "#Challenge 2\n",
    "#################################################\n",
    "import numpy as np \n",
    "import matplotlib.pyplot as plt \n",
    "import math\n",
    "x=[]\n",
    "for i in range(50,101):\n",
    "    if(i%2==0):\n",
    "        x.append(i)\n",
    "plt.plot(x)\n",
    "plt.show()\n",
    "\n",
    "# TODO: Create a plot line using a list of that that has all the even numbers between 50 and 100.\n",
    "\n"
   ]
  },
  {
   "cell_type": "code",
   "execution_count": null,
   "metadata": {},
   "outputs": [],
   "source": [
    "#################################################\n",
    "#Challenge 3\n",
    "#################################################\n",
    "import numpy as np \n",
    "import matplotlib.pyplot as plt \n",
    "import math\n",
    "\n",
    "# TODO: Create a plot showing 2 lines from 0 to 50\n",
    "# the first line should have the values for y = x\n",
    "# the second line should have the values for y = x^2\n",
    "\n"
   ]
  }
 ],
 "metadata": {
  "file_extension": ".py",
  "kernelspec": {
   "display_name": "Python 3",
   "language": "python",
   "name": "python3"
  },
  "language_info": {
   "codemirror_mode": {
    "name": "ipython",
    "version": 3
   },
   "file_extension": ".py",
   "mimetype": "text/x-python",
   "name": "python",
   "nbconvert_exporter": "python",
   "pygments_lexer": "ipython3",
   "version": "3.7.6"
  },
  "mimetype": "text/x-python",
  "name": "python",
  "npconvert_exporter": "python",
  "pygments_lexer": "ipython3",
  "version": 3
 },
 "nbformat": 4,
 "nbformat_minor": 2
}
