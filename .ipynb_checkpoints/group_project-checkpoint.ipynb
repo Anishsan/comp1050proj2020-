{
 "cells": [
  {
   "cell_type": "code",
   "execution_count": null,
   "metadata": {},
   "outputs": [],
   "source": [
    "#COMP1050 Group Project Code\n",
    "#Students:\n",
    "# student number, full name 45788251, Nishal Najeeb\n",
    "# student number, full name 46164200, Kazi Safin \n",
    "# student number, full name 46451065, Anishsan Gowrythasan\n",
    "# student number, full name 46425462, Vedant Paija"
   ]
  },
  {
   "cell_type": "code",
   "execution_count": null,
   "metadata": {},
   "outputs": [],
   "source": [
    "#imports\n",
    "import numpy as np\n",
    "import matplotlib.pyplot as plt \n",
    "import math\n",
    "\n",
    "import pandas as pd\n",
    "\n",
    "from scipy import signal\n",
    "\n",
    "#FUNCTIONS:\n",
    "\n",
    "def readDataset(dataset):\n",
    "    \"\"\"\n",
    "    Takes a .txt file and reads it\n",
    "    \"\"\"\n",
    "    return pd.read_csv(dataset, sep = ',', header = None)\n",
    "    \n",
    "\n",
    "def plotData(data): \n",
    "    \"\"\"\n",
    "    Takes a n-d array and plots it with specified start and stop points\n",
    "    \"\"\"\n",
    "    plt.plot(data) \n",
    "    plt.show()\n",
    "\n",
    "def plot0neActivity(impD1,activityLabel):\n",
    "    \"\"\"\n",
    "    This function takes an imported data and activity label as inputs, and plots the graph of that activity\n",
    "    \"\"\"\n",
    "    %matplotlib inline\n",
    "    impD1Activity = impD1[impD1[24] == activityLabel].values \n",
    "    plt.plot(impD1Activity) \n",
    "    "
   ]
  },
  {
   "cell_type": "code",
   "execution_count": null,
   "metadata": {},
   "outputs": [],
   "source": [
    "#This file will contain all your project code which your group builds up over a number of weeks\n",
    "#other files you have added in this repository can stay\n",
    "#general advice:\n",
    "#   - conform to your style gudelines that your group agreed to in week 8\n",
    "#   - do not have large blocks of code... split up into reusable functions\n",
    "#   - keep each function in a separate code block / cell\n",
    "#   - have all your imports in the one place\n",
    "#   - have your main algorithm (the thing that calls all your other functions) as the last block"
   ]
  },
  {
   "cell_type": "code",
   "execution_count": null,
   "metadata": {},
   "outputs": [],
   "source": [
    "impD1 = readDataset('dataset_1.txt')"
   ]
  },
  {
   "cell_type": "code",
   "execution_count": null,
   "metadata": {},
   "outputs": [],
   "source": [
    "mysD1 = readDataset('mystery_activity_data_1_unprocessed.txt')\n"
   ]
  },
  {
   "cell_type": "code",
   "execution_count": null,
   "metadata": {},
   "outputs": [],
   "source": [
    "mysD1Copy = mysD1.values\n",
    "impD1Copy = impD1.values\n",
    "plotData(impD1Copy)"
   ]
  },
  {
   "cell_type": "code",
   "execution_count": null,
   "metadata": {},
   "outputs": [],
   "source": [
    "plotData(mysD1Copy)\n"
   ]
  },
  {
   "cell_type": "code",
   "execution_count": null,
   "metadata": {},
   "outputs": [],
   "source": [
    "\n",
    "plot0neActivity(impD1,1)"
   ]
  },
  {
   "cell_type": "code",
   "execution_count": null,
   "metadata": {},
   "outputs": [],
   "source": [
    "plot0neActivity(impD1,2)"
   ]
  },
  {
   "cell_type": "code",
   "execution_count": null,
   "metadata": {},
   "outputs": [],
   "source": [
    "plot0neActivity(impD1,3)"
   ]
  },
  {
   "cell_type": "code",
   "execution_count": null,
   "metadata": {},
   "outputs": [],
   "source": [
    "plot0neActivity(impD1,4)"
   ]
  },
  {
   "cell_type": "code",
   "execution_count": null,
   "metadata": {},
   "outputs": [],
   "source": [
    "plot0neActivity(impD1,5)"
   ]
  },
  {
   "cell_type": "code",
   "execution_count": null,
   "metadata": {},
   "outputs": [],
   "source": [
    "plot0neActivity(impD1,6) "
   ]
  },
  {
   "cell_type": "code",
   "execution_count": null,
   "metadata": {},
   "outputs": [],
   "source": [
    "plot0neActivity(impD1,7)"
   ]
  },
  {
   "cell_type": "code",
   "execution_count": null,
   "metadata": {},
   "outputs": [],
   "source": [
    "plot0neActivity(impD1,8)"
   ]
  },
  {
   "cell_type": "code",
   "execution_count": null,
   "metadata": {},
   "outputs": [],
   "source": [
    "plot0neActivity(impD1,9) "
   ]
  },
  {
   "cell_type": "code",
   "execution_count": null,
   "metadata": {},
   "outputs": [],
   "source": [
    "plot0neActivity(impD1,10)"
   ]
  },
  {
   "cell_type": "code",
   "execution_count": null,
   "metadata": {},
   "outputs": [],
   "source": [
    "plot0neActivity(impD1,11)"
   ]
  },
  {
   "cell_type": "code",
   "execution_count": null,
   "metadata": {},
   "outputs": [],
   "source": [
    "plot0neActivity(impD1,12)"
   ]
  },
  {
   "cell_type": "code",
   "execution_count": null,
   "metadata": {},
   "outputs": [],
   "source": [
    "plot0neActivity(impD1,13)"
   ]
  },
  {
   "cell_type": "code",
   "execution_count": null,
   "metadata": {},
   "outputs": [],
   "source": [
    "print(\"The mystery activity is lying labelled 2\")"
   ]
  },
  {
   "cell_type": "code",
   "execution_count": null,
   "metadata": {},
   "outputs": [],
   "source": []
  }
 ],
 "metadata": {
  "kernelspec": {
   "display_name": "Python 3",
   "language": "python",
   "name": "python3"
  },
  "language_info": {
   "codemirror_mode": {
    "name": "ipython",
    "version": 3
   },
   "file_extension": ".py",
   "mimetype": "text/x-python",
   "name": "python",
   "nbconvert_exporter": "python",
   "pygments_lexer": "ipython3",
   "version": "3.7.6"
  }
 },
 "nbformat": 4,
 "nbformat_minor": 2
}
