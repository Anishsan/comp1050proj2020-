{
 "cells": [
  {
   "cell_type": "code",
   "execution_count": null,
   "metadata": {},
   "outputs": [],
   "source": [
    "#################################################\n",
    "#Prac 06 file 3 - COMP1050\n",
    "#################################################\n",
    "\n",
    "#Scipy for Sensor Data Filtering and matplotlib For Sensor Data plotting\n",
    "\n",
    "\n",
    "# Go down to the bottom of this file. We have 2 team \"challenges\" for you to complete\n",
    "\n",
    "# In this file we are getting you to use Python to complete a combination of filtering and plotting\n",
    "#for sensor data in the practical project\n",
    "\n",
    "\n"
   ]
  },
  {
   "cell_type": "code",
   "execution_count": null,
   "metadata": {},
   "outputs": [],
   "source": [
    "# Based on the given sample data, \n",
    "# import packages\n",
    "import numpy as np\n",
    "import pandas as pd\n",
    "import math\n",
    "\n",
    "#code snippet 1\n",
    "df = pd.read_csv('dataset_1.txt', sep=',', header=None)  # use pandas to read sensor data file\n",
    "print('The dataset contains %d rows.' % len(df)) "
   ]
  },
  {
   "cell_type": "code",
   "execution_count": null,
   "metadata": {},
   "outputs": [],
   "source": [
    "import matplotlib.pyplot as plt\n",
    "%matplotlib inline\n",
    "df_sitting = df[df[24] == 1].values \n",
    "\n"
   ]
  },
  {
   "cell_type": "code",
   "execution_count": null,
   "metadata": {},
   "outputs": [],
   "source": [
    "# Sensor data filtering. Scipy libary\n",
    "#code snippet 4\n",
    "from scipy import signal\n",
    "\n",
    "b, a = signal.butter(4, 0.04, 'lowpass', analog=False)\n",
    "for i in range(3):\n",
    "    df_sitting[:,i] = signal.lfilter(b, a, df_sitting[:, i])\n",
    "plt.plot(df_sitting[500:1500, 0:3])\n"
   ]
  },
  {
   "cell_type": "code",
   "execution_count": null,
   "metadata": {},
   "outputs": [],
   "source": [
    "#################################################\n",
    "#Challenge - 1\n",
    "#################################################\n",
    "#TODO:\n",
    "#1. Based on the code snippet 4, add your code to \n",
    "# clean all the sensor data for activities in the given dataset#Hint: you might need to add another outside loop\n",
    "\n",
    "from scipy import signal\n",
    "\n",
    "    df_sitting = df[df[24] == 1].values\n",
    "    df_lying = df[df[24] == 2].values\n",
    "    df_standing = df[df[24] == 3].values\n",
    "    df_washingdishes = df[df[24] == 4].values\n",
    "    df_vaccuming = df[df[24] == 5].values\n",
    "    df_walking = df[df[24] == 6].values\n",
    "    df_ascendingstairs = df[df[24] == 7].values\n",
    "    df_descendingstairs = df[df[24] == 8].values\n",
    "    df_running = df[df[24] == 9].values\n",
    "    df_bike50w = df[df[24] == 10].values\n",
    "    df_bike100w = df[df[24] == 11].values\n",
    "    df_ropejumping = df[df[24] == 12].values\n",
    "\n",
    "b, a = signal.butter(4, 0.04, 'lowpass', analog=False)\n",
    "for i in range(3):\n",
    "    df_sitting[:,i] = signal.lfilter(b, a, df[:, i])\n",
    "    df_lying[:,i] = signal.lfilter(b, a, df[:, i])\n",
    "    df_standing[:,i] = signal.lfilter(b, a, df[:, i])\n",
    "    df_washingdishes[:,i] = signal.lfilter(b, a, df[:, i])\n",
    "    df_vaccuming[:,i] = signal.lfilter(b, a, df[:, i])\n",
    "    df_walking[:,i] = signal.lfilter(b, a, df[:, i])\n",
    "    df_ascendingstairs[:,i] = signal.lfilter(b, a, df[:, i])\n",
    "    df_descendingstairs[:,i] = signal.lfilter(b, a, df[:, i])\n",
    "    df_running[:,i] = signal.lfilter(b, a, df[:, i])\n",
    "    df_bike50w[:,i] = signal.lfilter(b, a, df[:, i])\n",
    "    df_bike100w[:,i] = signal.lfilter(b, a, df[:, i])\n",
    "    df_ropejumping[:,i] = signal.lfilter(b, a, df[:, i])\n",
    "\n",
    "print(df_ropejumping)\n",
    "print('hello')\n",
    "\n",
    "#TODO: add your other code in here .   <<<-------------\n"
   ]
  },
  {
   "cell_type": "code",
   "execution_count": null,
   "metadata": {},
   "outputs": [],
   "source": [
    "#################################################\n",
    "#Challenge - 2\n",
    "#################################################\n",
    "#TODO:\n",
    "#1. Based on the challenge 1, add your code to \n",
    "#  plot the first sensor data in the first sensor device for the Washing dishes activity \n",
    "# to check whether your solution for Challenge 1 is working\n",
    "\n",
    "#TODO: add your other code in here .   <<<-------------\n",
    "\n"
   ]
  },
  {
   "cell_type": "code",
   "execution_count": null,
   "metadata": {},
   "outputs": [],
   "source": []
  },
  {
   "cell_type": "code",
   "execution_count": null,
   "metadata": {},
   "outputs": [],
   "source": []
  },
  {
   "cell_type": "code",
   "execution_count": null,
   "metadata": {},
   "outputs": [],
   "source": []
  },
  {
   "cell_type": "code",
   "execution_count": null,
   "metadata": {},
   "outputs": [],
   "source": []
  }
 ],
 "metadata": {
  "file_extension": ".py",
  "kernelspec": {
   "display_name": "Python 3",
   "language": "python",
   "name": "python3"
  },
  "language_info": {
   "codemirror_mode": {
    "name": "ipython",
    "version": 3
   },
   "file_extension": ".py",
   "mimetype": "text/x-python",
   "name": "python",
   "nbconvert_exporter": "python",
   "pygments_lexer": "ipython3",
   "version": "3.7.6"
  },
  "mimetype": "text/x-python",
  "name": "python",
  "npconvert_exporter": "python",
  "pygments_lexer": "ipython3",
  "version": 3
 },
 "nbformat": 4,
 "nbformat_minor": 2
}
